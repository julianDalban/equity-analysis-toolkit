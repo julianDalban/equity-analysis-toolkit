{
 "cells": [
  {
   "cell_type": "markdown",
   "id": "873e678b-b04d-44ca-8ec5-014180e43b2f",
   "metadata": {},
   "source": [
    "# Terms and Definitions"
   ]
  },
  {
   "cell_type": "markdown",
   "id": "cab2bea6-fb18-46d8-aa94-b6c4d9d00847",
   "metadata": {},
   "source": [
    "- **Risk-adjusted returns**: Returns scaled by the amount of risk taken to achiave them (Sharpe ratio, Sortino ratio)\n",
    "- **Relative performance**: How an asset performs compared to a benchmark (e.g. COIN vs SPY)\n",
    "- **Time horizon effects**: How performance metrics change based on measurement period (daily vs monthly volatility)\n",
    "- **Sharpe Ratio**: Measures excess return per unit of risk $\\frac{(Return - RiskFreeRate)}{StandardDeviation}$\n",
    "- **SPY**: SPDR S&P 500 ETF, tracks 500 largest US companies\n",
    "- **XLF**: Financial Select Sector SPDR Fund, tracks financial sector (banks, insurance, REITs)\n",
    "- **XLK**: Technology Select Sector SPDR Fund, tracks tech sector (AAPL, MSFT, NVDA)\n",
    "- **Bull Market**: Sustained period of rising prices (typically 20%+ gain from recent lows)\n",
    "- **Bear Market**: Sustained period of falling prices (typically 20%+ decline from recent highs)\n",
    "- **Mean Reversion**: Tendency for correlations/prices to return to historical averages over time\n",
    "- **Beta**: Measure of systematic risk, how much a stock moves relative to the market (SPY)\n",
    "- **Alpha**: Excess return above what's explained by market exposure (skilled vs lucky performance)\n",
    "- **Correlation**: Strength of linear relationship between two assets (-1 to +1)\n",
    "- **Rolling Window**: Moving calculation over fixed time period (30-day rolling volatility)\n",
    "- **Drawdown**: Peak-to-trough decline during a specific period\n",
    "- **Regime Change**: Shift in market behaviour patterns (low vol to high vol periods)"
   ]
  }
 ],
 "metadata": {
  "kernelspec": {
   "display_name": "Python 3 (ipykernel)",
   "language": "python",
   "name": "python3"
  },
  "language_info": {
   "codemirror_mode": {
    "name": "ipython",
    "version": 3
   },
   "file_extension": ".py",
   "mimetype": "text/x-python",
   "name": "python",
   "nbconvert_exporter": "python",
   "pygments_lexer": "ipython3",
   "version": "3.12.6"
  }
 },
 "nbformat": 4,
 "nbformat_minor": 5
}
